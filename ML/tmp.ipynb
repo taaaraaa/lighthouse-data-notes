{
 "cells": [
  {
   "cell_type": "code",
   "execution_count": null,
   "id": "ba0cdad5",
   "metadata": {},
   "outputs": [],
   "source": []
  },
  {
   "cell_type": "code",
   "execution_count": 1,
   "id": "b6d2e848",
   "metadata": {},
   "outputs": [],
   "source": [
    "lis=[0,1,1]"
   ]
  },
  {
   "cell_type": "code",
   "execution_count": 4,
   "id": "1cf75da3",
   "metadata": {},
   "outputs": [],
   "source": [
    "for i in range (12):\n",
    "    if i>2:\n",
    "        a=(i-1)+(i-2)\n",
    "        lis.append(a)"
   ]
  },
  {
   "cell_type": "code",
   "execution_count": 7,
   "id": "681a9414",
   "metadata": {},
   "outputs": [
    {
     "data": {
      "text/plain": [
       "{1: 0,\n",
       " 2: 1,\n",
       " 3: 1,\n",
       " 4: 3,\n",
       " 5: 5,\n",
       " 6: 7,\n",
       " 7: 9,\n",
       " 8: 11,\n",
       " 9: 13,\n",
       " 10: 15,\n",
       " 11: 17,\n",
       " 12: 19}"
      ]
     },
     "execution_count": 7,
     "metadata": {},
     "output_type": "execute_result"
    }
   ],
   "source": [
    "dic={}\n",
    "for i in range(12):\n",
    "    dic[i+1]=lis[i]\n",
    "    \n",
    "dic"
   ]
  }
 ],
 "metadata": {
  "kernelspec": {
   "display_name": "Python 3 (ipykernel)",
   "language": "python",
   "name": "python3"
  },
  "language_info": {
   "codemirror_mode": {
    "name": "ipython",
    "version": 3
   },
   "file_extension": ".py",
   "mimetype": "text/x-python",
   "name": "python",
   "nbconvert_exporter": "python",
   "pygments_lexer": "ipython3",
   "version": "3.9.13"
  }
 },
 "nbformat": 4,
 "nbformat_minor": 5
}
