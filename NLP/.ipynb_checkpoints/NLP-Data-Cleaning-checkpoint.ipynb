{
 "cells": [
  {
   "cell_type": "markdown",
   "id": "45390505",
   "metadata": {},
   "source": [
    "## Importing libraries"
   ]
  },
  {
   "cell_type": "code",
   "execution_count": 1,
   "id": "01245b9e",
   "metadata": {},
   "outputs": [
    {
     "name": "stderr",
     "output_type": "stream",
     "text": [
      "[nltk_data] Downloading package stopwords to\n",
      "[nltk_data]     C:\\Users\\farha\\AppData\\Roaming\\nltk_data...\n",
      "[nltk_data]   Package stopwords is already up-to-date!\n",
      "[nltk_data] Downloading package wordnet to\n",
      "[nltk_data]     C:\\Users\\farha\\AppData\\Roaming\\nltk_data...\n",
      "[nltk_data]   Package wordnet is already up-to-date!\n",
      "[nltk_data] Downloading package omw-1.4 to\n",
      "[nltk_data]     C:\\Users\\farha\\AppData\\Roaming\\nltk_data...\n",
      "[nltk_data]   Package omw-1.4 is already up-to-date!\n",
      "[nltk_data] Downloading package punkt to\n",
      "[nltk_data]     C:\\Users\\farha\\AppData\\Roaming\\nltk_data...\n",
      "[nltk_data]   Package punkt is already up-to-date!\n"
     ]
    }
   ],
   "source": [
    "# Import the NLTK package and download the necessary data\n",
    "import string\n",
    "import nltk\n",
    "nltk.download('stopwords')\n",
    "from nltk.corpus import stopwords\n",
    "\n",
    "# import tLemmatizer\n",
    "\n",
    "nltk.download('wordnet')\n",
    "nltk.download('omw-1.4')\n",
    "from nltk.stem import WordNetLemmatizer\n",
    "\n",
    "# stemming modules \n",
    "\n",
    "nltk.download('punkt')\n",
    "from nltk.stem import PorterStemmer\n",
    "\n"
   ]
  },
  {
   "cell_type": "markdown",
   "id": "c393a6f9",
   "metadata": {},
   "source": [
    "## Punctuation"
   ]
  },
  {
   "cell_type": "code",
   "execution_count": 2,
   "id": "9c822115",
   "metadata": {},
   "outputs": [],
   "source": [
    "# Define a function to remove punctuation in Review\n",
    "def remove_punct(text):\n",
    "    text = \"\".join([char for char in text if char not in string.punctuation])\n",
    "    return text"
   ]
  },
  {
   "cell_type": "markdown",
   "id": "31f0ba49",
   "metadata": {},
   "source": [
    "## Tokenizing"
   ]
  },
  {
   "cell_type": "code",
   "execution_count": 3,
   "id": "24d9bbaa",
   "metadata": {},
   "outputs": [],
   "source": [
    "def tokenize(text):\n",
    "    text = text.split()\n",
    "    return text"
   ]
  },
  {
   "cell_type": "markdown",
   "id": "50974ace",
   "metadata": {},
   "source": [
    "## Lowercase"
   ]
  },
  {
   "cell_type": "code",
   "execution_count": 4,
   "id": "1c822b7d",
   "metadata": {},
   "outputs": [],
   "source": [
    "#create a function that converts text to lowercase\n",
    "\n",
    "\n",
    "def lowercase(tokenized_text):\n",
    "    \n",
    "    list_i=[]\n",
    "    for i in tokenized_text:\n",
    "        list_i.append(i.lower())\n",
    "    return list_i"
   ]
  },
  {
   "cell_type": "markdown",
   "id": "069aca9c",
   "metadata": {},
   "source": [
    "## Stopwords"
   ]
  },
  {
   "cell_type": "code",
   "execution_count": 13,
   "id": "20f168a3",
   "metadata": {
    "scrolled": true
   },
   "outputs": [],
   "source": [
    "# create a function that removes stopwords\n",
    "\n",
    "ENGstopwords = stopwords.words('english')\n",
    "\n",
    "def remove_stopwords(tokenized_text):    \n",
    "    text_without_stopwords = [word for word in tokenized_text if word not in ENGstopwords]\n",
    "    return text_without_stopwords"
   ]
  },
  {
   "cell_type": "markdown",
   "id": "33fa994c",
   "metadata": {},
   "source": [
    "## lametizing"
   ]
  },
  {
   "cell_type": "code",
   "execution_count": 6,
   "id": "d4b5e074",
   "metadata": {},
   "outputs": [],
   "source": [
    "lemmatizer = WordNetLemmatizer()"
   ]
  },
  {
   "cell_type": "code",
   "execution_count": 7,
   "id": "739892f8",
   "metadata": {},
   "outputs": [],
   "source": [
    "def lameetize(tokenized_text):\n",
    "    list_i=[]\n",
    "    for i in tokenized_text:\n",
    "        list_i.append(lemmatizer.lemmatize(i))\n",
    "    return list_i"
   ]
  },
  {
   "cell_type": "markdown",
   "id": "5d231e91",
   "metadata": {},
   "source": [
    "## Stemming"
   ]
  },
  {
   "cell_type": "code",
   "execution_count": 8,
   "id": "b4215d65",
   "metadata": {},
   "outputs": [],
   "source": [
    "ps = PorterStemmer() #will remove pre-defined stems"
   ]
  },
  {
   "cell_type": "code",
   "execution_count": 9,
   "id": "3a9f8756",
   "metadata": {},
   "outputs": [],
   "source": [
    "def steming(tokenized_text):\n",
    "    list_i=[]\n",
    "    for i in tokenized_text:\n",
    "        list_i.append(ps.stem(i))\n",
    "    return list_i"
   ]
  },
  {
   "cell_type": "markdown",
   "id": "dc8fcf27",
   "metadata": {},
   "source": [
    "## All Pre-processing"
   ]
  },
  {
   "cell_type": "code",
   "execution_count": 16,
   "id": "cf5f455b",
   "metadata": {},
   "outputs": [],
   "source": [
    "def preprocess_all(text):\n",
    "    text=remove_punct(text)  \n",
    "    text=tokenize(text)\n",
    "    text=lowercase(text)           \n",
    "    text=remove_stopwords(text)    \n",
    "    text=lameetize(text)   \n",
    "    text=steming(text)\n",
    "\n",
    "    return text"
   ]
  },
  {
   "cell_type": "code",
   "execution_count": 17,
   "id": "93c69b9f",
   "metadata": {},
   "outputs": [
    {
     "data": {
      "text/plain": [
       "['select', 'menu', 'great', 'wer']"
      ]
     },
     "execution_count": 17,
     "metadata": {},
     "output_type": "execute_result"
    }
   ],
   "source": [
    "preprocess_all('The selection on the menu was great and so wer')"
   ]
  }
 ],
 "metadata": {
  "kernelspec": {
   "display_name": "Python 3 (ipykernel)",
   "language": "python",
   "name": "python3"
  },
  "language_info": {
   "codemirror_mode": {
    "name": "ipython",
    "version": 3
   },
   "file_extension": ".py",
   "mimetype": "text/x-python",
   "name": "python",
   "nbconvert_exporter": "python",
   "pygments_lexer": "ipython3",
   "version": "3.9.13"
  }
 },
 "nbformat": 4,
 "nbformat_minor": 5
}
