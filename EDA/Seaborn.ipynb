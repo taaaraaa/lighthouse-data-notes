{
 "cells": [
  {
   "cell_type": "markdown",
   "id": "d22b40f4",
   "metadata": {},
   "source": [
    "# [Introduction to Seaborn ](https://data.compass.lighthouselabs.ca/days/w03d1/activities/425)\n",
    "\n",
    "- We will learn how to create some interesting charts which are not available in Matplotlib. We will also see how easy it is to create a complex chart with this library.\n",
    "- Seaborn is a Python data visualization library based on Matplotlib. It provides a high-level interface for drawing attractive and informative statistical graphics."
   ]
  },
  {
   "cell_type": "markdown",
   "id": "3e4decae",
   "metadata": {},
   "source": [
    "to do: [this](https://data.compass.lighthouselabs.ca/72b34801-e839-4611-937a-cda8f7f96259)"
   ]
  },
  {
   "cell_type": "code",
   "execution_count": null,
   "id": "9e01c9fe",
   "metadata": {},
   "outputs": [],
   "source": []
  }
 ],
 "metadata": {
  "kernelspec": {
   "display_name": "Python 3 (ipykernel)",
   "language": "python",
   "name": "python3"
  },
  "language_info": {
   "codemirror_mode": {
    "name": "ipython",
    "version": 3
   },
   "file_extension": ".py",
   "mimetype": "text/x-python",
   "name": "python",
   "nbconvert_exporter": "python",
   "pygments_lexer": "ipython3",
   "version": "3.9.13"
  }
 },
 "nbformat": 4,
 "nbformat_minor": 5
}
