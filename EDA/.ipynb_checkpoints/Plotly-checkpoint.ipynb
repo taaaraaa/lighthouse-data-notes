{
 "cells": [
  {
   "cell_type": "markdown",
   "id": "e6573ad8",
   "metadata": {},
   "source": [
    "Plotly is a modern platform for data visualization, useful for producing a variety of plots, especially for data science. Plotly is available as a library for Python, R, JavaScript, Julia, and MATLAB. It can also be used as a web application with these languages.\n"
   ]
  },
  {
   "cell_type": "code",
   "execution_count": null,
   "id": "88a79139",
   "metadata": {},
   "outputs": [],
   "source": []
  }
 ],
 "metadata": {
  "kernelspec": {
   "display_name": "Python 3 (ipykernel)",
   "language": "python",
   "name": "python3"
  },
  "language_info": {
   "codemirror_mode": {
    "name": "ipython",
    "version": 3
   },
   "file_extension": ".py",
   "mimetype": "text/x-python",
   "name": "python",
   "nbconvert_exporter": "python",
   "pygments_lexer": "ipython3",
   "version": "3.9.13"
  }
 },
 "nbformat": 4,
 "nbformat_minor": 5
}
