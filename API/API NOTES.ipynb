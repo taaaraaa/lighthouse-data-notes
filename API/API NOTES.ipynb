{
 "cells": [
  {
   "cell_type": "markdown",
   "id": "e33693db",
   "metadata": {},
   "source": [
    "The credit of this learning goes to [Brian Lynch](https://github.com/bklynchconnect).To securely publish the codes including API keys, we need to to hide them. There two ways:\n",
    "1. Defining Environmental Variable\n",
    "2. Have the API key in a seperate file"
   ]
  },
  {
   "cell_type": "markdown",
   "id": "568db1c0",
   "metadata": {},
   "source": [
    "## 1. Defining Environmental Variable"
   ]
  },
  {
   "cell_type": "markdown",
   "id": "db2244b3",
   "metadata": {},
   "source": [
    "Following are the  steps for Windows:"
   ]
  },
  {
   "cell_type": "markdown",
   "id": "7066b76b",
   "metadata": {},
   "source": [
    "### a. Creating the variable on the system\n",
    "- Go to start menu and type: *enviroment variable**\n",
    "- Go to **\"Edit the system enviroment variable\"** \n",
    "- Click on **\"Environment Variable\"**\n",
    "- On System variables click new and give your variable a name and the value of your API KEY"
   ]
  },
  {
   "cell_type": "markdown",
   "id": "12cb38ea",
   "metadata": {},
   "source": [
    "### b.  Using the new env variable in python\n",
    "- restart Jupyter Notebook/Jupyter Lab/VS Code (close it completely and start it up again)\n",
    "- Type the following codes"
   ]
  },
  {
   "cell_type": "code",
   "execution_count": 4,
   "id": "b0c37d79",
   "metadata": {},
   "outputs": [
    {
     "data": {
      "text/plain": [
       "'It is just a test'"
      ]
     },
     "execution_count": 4,
     "metadata": {},
     "output_type": "execute_result"
    }
   ],
   "source": [
    "import os\n",
    "\n",
    "# this will give back all names/values in a dictionary:\n",
    "env_vars = os.environ\n",
    "\n",
    "# this will get the value for a specified variable:\n",
    "api_key = os.environ[\"TEST_API_KEY\"]\n",
    "api_key"
   ]
  },
  {
   "cell_type": "markdown",
   "id": "700f3454",
   "metadata": {},
   "source": [
    "## 2. Have the API key in a seperate file"
   ]
  },
  {
   "cell_type": "code",
   "execution_count": 2,
   "id": "ab1298a3",
   "metadata": {},
   "outputs": [
    {
     "data": {
      "text/plain": [
       "'This is just a test'"
      ]
     },
     "execution_count": 2,
     "metadata": {},
     "output_type": "execute_result"
    }
   ],
   "source": [
    "with open('C:\\Tmp_Secret_Folder\\API_KEY.txt') as f:\n",
    "    api_key = f.read()\n",
    "api_key"
   ]
  }
 ],
 "metadata": {
  "kernelspec": {
   "display_name": "Python 3 (ipykernel)",
   "language": "python",
   "name": "python3"
  },
  "language_info": {
   "codemirror_mode": {
    "name": "ipython",
    "version": 3
   },
   "file_extension": ".py",
   "mimetype": "text/x-python",
   "name": "python",
   "nbconvert_exporter": "python",
   "pygments_lexer": "ipython3",
   "version": "3.9.13"
  }
 },
 "nbformat": 4,
 "nbformat_minor": 5
}
