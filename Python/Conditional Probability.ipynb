{
 "cells": [
  {
   "cell_type": "code",
   "execution_count": 2,
   "id": "a4a22a83",
   "metadata": {},
   "outputs": [],
   "source": [
    "import numpy as np\n"
   ]
  },
  {
   "cell_type": "code",
   "execution_count": 3,
   "id": "0db8e64e",
   "metadata": {},
   "outputs": [],
   "source": [
    "# how many times we run the simulation\n",
    "n_runs = 100000\n",
    "\n",
    "# initialize variables\n",
    "SAM = 0\n",
    "SAM_YES = 0\n",
    "SAM_NO = 0\n",
    "ALEX = 0\n",
    "ALEX_YES = 0\n",
    "ALEX_NO = 0\n",
    "YES = 0\n",
    "NO = 0"
   ]
  },
  {
   "cell_type": "code",
   "execution_count": 5,
   "id": "1992deb3",
   "metadata": {},
   "outputs": [],
   "source": [
    "# process simulation\n",
    "for _ in range(n_runs):\n",
    "    # Sam (probability of Sam being the coach)\n",
    "    if np.random.random() < 0.6: \n",
    "        SAM += 1\n",
    "\n",
    "        # YES\n",
    "        if np.random.random() < 0.5:\n",
    "            SAM_YES += 1\n",
    "            YES +=1\n",
    "\n",
    "        # NO\n",
    "        else:\n",
    "            SAM_NO += 1\n",
    "            NO += 1\n",
    "\n",
    "    #Alex (probability of Alex being the coach)\n",
    "    else:\n",
    "        ALEX += 1\n",
    "\n",
    "        # YES\n",
    "        if np.random.random() < 0.3:\n",
    "            ALEX_YES += 1\n",
    "            YES += 1\n",
    "\n",
    "        # NO\n",
    "        else:\n",
    "            ALEX_NO += 1\n",
    "            NO +=1"
   ]
  },
  {
   "cell_type": "code",
   "execution_count": 6,
   "id": "8a11ea08",
   "metadata": {},
   "outputs": [],
   "source": [
    "# create probabilities\n",
    "P_SAM = SAM / n_runs * 100\n",
    "P_SAM_YES = SAM_YES / n_runs * 100\n",
    "P_SAM_NO = SAM_NO / n_runs * 100\n",
    "P_ALEX = ALEX / n_runs * 100\n",
    "P_ALEX_YES = ALEX_YES / n_runs * 100\n",
    "P_ALEX_NO = ALEX_NO / n_runs * 100\n",
    "P_YES = YES / n_runs * 100\n",
    "P_NO = NO / n_runs * 100"
   ]
  },
  {
   "cell_type": "code",
   "execution_count": 7,
   "id": "239fbf57",
   "metadata": {},
   "outputs": [
    {
     "name": "stdout",
     "output_type": "stream",
     "text": [
      "Sam is the coach: 59.948%\n",
      "Sam is the coach and you are the goalkeeper: 30.142999999999997%\n",
      "Sam is the coach and you are not the goalkeeper: 29.805%\n",
      "Alex is the coach: 40.052%\n",
      "Alex is the coach and you are the goalkeeper: 11.988%\n",
      "Alex is the coach and you are not the goalkeeper: 28.064%\n",
      "You are the goalkeeper: 42.131%\n",
      "You are not the goalkeeper: 57.86900000000001\n"
     ]
    }
   ],
   "source": [
    "print(f'Sam is the coach: {P_SAM}%')\n",
    "print(f'Sam is the coach and you are the goalkeeper: {P_SAM_YES}%')\n",
    "print(f'Sam is the coach and you are not the goalkeeper: {P_SAM_NO}%')\n",
    "print(f'Alex is the coach: {P_ALEX}%')\n",
    "print(f'Alex is the coach and you are the goalkeeper: {P_ALEX_YES}%')\n",
    "print(f'Alex is the coach and you are not the goalkeeper: {P_ALEX_NO}%')\n",
    "print(f'You are the goalkeeper: {P_YES}%')\n",
    "print(f'You are not the goalkeeper: {P_NO}')"
   ]
  },
  {
   "cell_type": "markdown",
   "id": "00467577",
   "metadata": {},
   "source": [
    "The following excercise is from [this repo](https://github.com/lighthouse-labs/prep_course_statistics)"
   ]
  },
  {
   "cell_type": "markdown",
   "id": "e6d66685",
   "metadata": {},
   "source": [
    "Exercise 1\n",
    "In Orange County, 51% of the adults are males. (It doesn't take too much advanced mathematics to deduce that the other 49% are females.) One adult is randomly selected for a survey involving credit card usage.\n",
    "\n",
    "(a) Find the probability that the selected person is a male.\n",
    "\n",
    "(b) It is later learned that the selected survey subject was smoking a cigar. Also, 9.5% of males smoke cigars, whereas 1.7% of females smoke cigars (based on data from the Substance Abuse and Mental Health Services Administration). Use this additional information to find the probability that the cigar−smoking respondent is a male\n",
    "\n",
    "Use following notation: M = male\n",
    "F = female\n",
    "C = cigar smoker\n",
    "NC = not a cigar smoker"
   ]
  },
  {
   "cell_type": "code",
   "execution_count": 35,
   "id": "9f03447a",
   "metadata": {},
   "outputs": [],
   "source": [
    "# how many times we run the simulation\n",
    "n_runs = 100000\n",
    "\n",
    "# initialize variables\n",
    "M= male = 0\n",
    "F= female = 0\n",
    "\n",
    "C= smoker= 0\n",
    "NC =non_smoker= 0\n",
    "\n",
    "\n",
    "MC = male_smoker = 0\n",
    "FC = female_smoker = 0\n",
    "\n",
    "NMC = male_non_smoker= 0\n",
    "NFC= female_non_smoker= 0"
   ]
  },
  {
   "cell_type": "code",
   "execution_count": 36,
   "id": "7c38b2e8",
   "metadata": {},
   "outputs": [],
   "source": [
    "# process simulation\n",
    "n_runs=10000\n",
    "for _ in range(n_runs):\n",
    "    # Sam (probability of being male)\n",
    "    if np.random.random() < 0.51: \n",
    "        M += 1\n",
    "\n",
    "        # YES\n",
    "        if np.random.random() < 0.095:\n",
    "            MC += 1\n",
    "            C +=1\n",
    "\n",
    "        # NO\n",
    "        else:\n",
    "            NMC += 1\n",
    "            NC += 1\n",
    "\n",
    "    #Alex (probability of being female)\n",
    "    else:\n",
    "        F += 1\n",
    "\n",
    "\n",
    "        if np.random.random() < 0.017:\n",
    "            FC += 1\n",
    "            C += 1\n",
    "\n",
    "        # NO\n",
    "        else:\n",
    "            NFC += 1\n",
    "            NC +=1"
   ]
  },
  {
   "cell_type": "code",
   "execution_count": 40,
   "id": "ec528a11",
   "metadata": {},
   "outputs": [],
   "source": [
    "# create probabilities\n",
    "\n",
    "P_M = M/ n_runs * 100\n",
    "P_MC = MC / M * 100\n",
    "P_NMC = NMC / M * 100\n",
    "\n",
    "P_F = F / n_runs * 100\n",
    "P_FC = FC / F * 100\n",
    "P_NFC = NFC / F * 100\n",
    "\n",
    "P_C = C / n_runs * 100\n",
    "P_NC = NC / n_runs * 100"
   ]
  },
  {
   "cell_type": "code",
   "execution_count": 41,
   "id": "d3e93676",
   "metadata": {},
   "outputs": [
    {
     "name": "stdout",
     "output_type": "stream",
     "text": [
      "Selected person is Male: 50.870000000000005%\n",
      "Selected male person is non_smoker: 90.28897188912916%\n",
      "Selected male person is smoker: 9.711028110870847%\n",
      "\n",
      "\n",
      "Selected person is Female: 49.13%\n",
      "Selected female person is non_smoker: 98.29025035619784%\n",
      "Selected female person is smoker: 1.7097496438021573%\n",
      "\n",
      "\n",
      "Selected person is smoker: 5.779999999999999%\n",
      "Selected person is Non_smoker: 94.22%\n"
     ]
    }
   ],
   "source": [
    "print(f'Selected person is Male: {P_M}%')\n",
    "print(f'Selected male person is non_smoker: {P_NMC}%')\n",
    "print(f'Selected male person is smoker: {P_MC}%')\n",
    "print('\\n')\n",
    "\n",
    "print(f'Selected person is Female: {P_F}%')\n",
    "print(f'Selected female person is non_smoker: {P_NFC}%')\n",
    "print(f'Selected female person is smoker: {P_FC}%')\n",
    "print('\\n')\n",
    "\n",
    "print(f'Selected person is smoker: {P_C}%')\n",
    "print(f'Selected person is Non_smoker: {P_NC}%')\n"
   ]
  },
  {
   "cell_type": "code",
   "execution_count": 47,
   "id": "4df73206",
   "metadata": {},
   "outputs": [
    {
     "data": {
      "text/plain": [
       "0.8546712802768168"
      ]
     },
     "execution_count": 47,
     "metadata": {},
     "output_type": "execute_result"
    }
   ],
   "source": [
    "P_CM=(P_M*P_MC)/(P_C*100)\n",
    "P_CM"
   ]
  },
  {
   "cell_type": "code",
   "execution_count": 48,
   "id": "0655144b",
   "metadata": {},
   "outputs": [
    {
     "data": {
      "text/plain": [
       "0.14532871972318342"
      ]
     },
     "execution_count": 48,
     "metadata": {},
     "output_type": "execute_result"
    }
   ],
   "source": [
    "P_CF=(P_F*P_FC)/(P_C*100)\n",
    "P_CF"
   ]
  },
  {
   "cell_type": "code",
   "execution_count": null,
   "id": "1825b5de",
   "metadata": {},
   "outputs": [],
   "source": []
  }
 ],
 "metadata": {
  "kernelspec": {
   "display_name": "Python 3 (ipykernel)",
   "language": "python",
   "name": "python3"
  },
  "language_info": {
   "codemirror_mode": {
    "name": "ipython",
    "version": 3
   },
   "file_extension": ".py",
   "mimetype": "text/x-python",
   "name": "python",
   "nbconvert_exporter": "python",
   "pygments_lexer": "ipython3",
   "version": "3.9.13"
  }
 },
 "nbformat": 4,
 "nbformat_minor": 5
}
