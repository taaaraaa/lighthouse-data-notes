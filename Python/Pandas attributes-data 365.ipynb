{
 "cells": [
  {
   "cell_type": "markdown",
   "id": "7c63c797",
   "metadata": {},
   "source": [
    "# Installing and Running pandas"
   ]
  },
  {
   "cell_type": "code",
   "execution_count": 3,
   "id": "218ccced",
   "metadata": {},
   "outputs": [
    {
     "data": {
      "text/plain": [
       "'1.4.4'"
      ]
     },
     "execution_count": 3,
     "metadata": {},
     "output_type": "execute_result"
    }
   ],
   "source": [
    "import pandas as pd\n",
    "pd.__version__"
   ]
  },
  {
   "cell_type": "code",
   "execution_count": 4,
   "id": "49bb73b5",
   "metadata": {},
   "outputs": [
    {
     "data": {
      "text/plain": [
       "list"
      ]
     },
     "execution_count": 4,
     "metadata": {},
     "output_type": "execute_result"
    }
   ],
   "source": [
    "product=['A','B','C','D']\n",
    "type(product)"
   ]
  },
  {
   "cell_type": "code",
   "execution_count": 5,
   "id": "bc18ea37",
   "metadata": {},
   "outputs": [
    {
     "data": {
      "text/plain": [
       "0    A\n",
       "1    B\n",
       "2    C\n",
       "3    D\n",
       "dtype: object"
      ]
     },
     "execution_count": 5,
     "metadata": {},
     "output_type": "execute_result"
    }
   ],
   "source": [
    "product_categories=pd.Series(product)\n",
    "product_categories"
   ]
  },
  {
   "cell_type": "code",
   "execution_count": 6,
   "id": "7679d504",
   "metadata": {},
   "outputs": [
    {
     "data": {
      "text/plain": [
       "pandas.core.series.Series"
      ]
     },
     "execution_count": 6,
     "metadata": {},
     "output_type": "execute_result"
    }
   ],
   "source": [
    "type(product_categories)"
   ]
  },
  {
   "cell_type": "code",
   "execution_count": 7,
   "id": "4ebcd823",
   "metadata": {},
   "outputs": [
    {
     "data": {
      "text/plain": [
       "0    40\n",
       "1    45\n",
       "2    50\n",
       "3    60\n",
       "dtype: int64"
      ]
     },
     "execution_count": 7,
     "metadata": {},
     "output_type": "execute_result"
    }
   ],
   "source": [
    "daily_rates_dollars=pd.Series([40, 45, 50, 60])\n",
    "daily_rates_dollars"
   ]
  },
  {
   "cell_type": "markdown",
   "id": "39f2d8e0",
   "metadata": {},
   "source": [
    "## Pandas Series object corresponds to the one-dimensional NumPy array structure"
   ]
  },
  {
   "cell_type": "code",
   "execution_count": 8,
   "id": "04c01e6d",
   "metadata": {},
   "outputs": [],
   "source": [
    "import numpy as np"
   ]
  },
  {
   "cell_type": "code",
   "execution_count": 9,
   "id": "9d3bfe6a",
   "metadata": {},
   "outputs": [
    {
     "data": {
      "text/plain": [
       "array([10, 20, 30, 40, 50])"
      ]
     },
     "execution_count": 9,
     "metadata": {},
     "output_type": "execute_result"
    }
   ],
   "source": [
    "array_a=np.array([10,20,30,40,50])\n",
    "array_a"
   ]
  },
  {
   "cell_type": "code",
   "execution_count": 10,
   "id": "13909ecf",
   "metadata": {},
   "outputs": [
    {
     "data": {
      "text/plain": [
       "numpy.ndarray"
      ]
     },
     "execution_count": 10,
     "metadata": {},
     "output_type": "execute_result"
    }
   ],
   "source": [
    "type(array_a)"
   ]
  },
  {
   "cell_type": "code",
   "execution_count": 11,
   "id": "d5a7b381",
   "metadata": {},
   "outputs": [
    {
     "data": {
      "text/plain": [
       "0    10\n",
       "1    20\n",
       "2    30\n",
       "3    40\n",
       "4    50\n",
       "dtype: int32"
      ]
     },
     "execution_count": 11,
     "metadata": {},
     "output_type": "execute_result"
    }
   ],
   "source": [
    "series_a=pd.Series(array_a)\n",
    "series_a"
   ]
  },
  {
   "cell_type": "code",
   "execution_count": 12,
   "id": "80ef082c",
   "metadata": {},
   "outputs": [
    {
     "data": {
      "text/plain": [
       "pandas.core.series.Series"
      ]
     },
     "execution_count": 12,
     "metadata": {},
     "output_type": "execute_result"
    }
   ],
   "source": [
    "type(series_a)"
   ]
  },
  {
   "cell_type": "markdown",
   "id": "46ab41b2",
   "metadata": {},
   "source": [
    "## Takeaways:\n",
    "1. The pandas Series object is something like a powerful version of the Python list, or an enhanced version of the NumPy array. There are a larger set of tools and capabilities that are pertinent to the pandas library only.\n",
    "2. It does not mean that Series should be choosen over the two other types. There is a **Trade Off** between:\n",
    "- What you want to obtain from your data\n",
    "- the speed and precision with which you can do that\n",
    "\n",
    "3. The series object stores its values in a sequenced order, and has an explicit index!\n",
    "4. Always remember to maintain **data consisency**"
   ]
  },
  {
   "cell_type": "markdown",
   "id": "7b1c61dc",
   "metadata": {},
   "source": [
    "# Working with Attributes in Python\n",
    "\n",
    "Almost every entity in Python is an object.\n",
    "\n",
    "#### Python objects contain:\n",
    "- data\n",
    "- metadata (information about the data)\n",
    "- related functionalities\n",
    "\n",
    "#### Attribute\n",
    "A variable providing metadata about an object. It allow us to extract information about it but they are not meant to alter or modify its content in any way!\n"
   ]
  },
  {
   "cell_type": "markdown",
   "id": "82c28c62",
   "metadata": {},
   "source": [
    "### 1. Data type Attribute:             x.dtype"
   ]
  },
  {
   "cell_type": "code",
   "execution_count": 13,
   "id": "7d0ddf50",
   "metadata": {},
   "outputs": [
    {
     "data": {
      "text/plain": [
       "dtype('int32')"
      ]
     },
     "execution_count": 13,
     "metadata": {},
     "output_type": "execute_result"
    }
   ],
   "source": [
    "series_a.dtype"
   ]
  },
  {
   "cell_type": "code",
   "execution_count": 16,
   "id": "7e6addd1",
   "metadata": {},
   "outputs": [
    {
     "data": {
      "text/plain": [
       "dtype('O')"
      ]
     },
     "execution_count": 16,
     "metadata": {},
     "output_type": "execute_result"
    }
   ],
   "source": [
    "product_categories.dtype\n",
    "#o stands for object: It is the default type assigned to non-numberic data"
   ]
  },
  {
   "cell_type": "markdown",
   "id": "258dfade",
   "metadata": {},
   "source": [
    "### 2. Size Attribute:              x.size"
   ]
  },
  {
   "cell_type": "code",
   "execution_count": 14,
   "id": "f45b332f",
   "metadata": {},
   "outputs": [
    {
     "data": {
      "text/plain": [
       "5"
      ]
     },
     "execution_count": 14,
     "metadata": {},
     "output_type": "execute_result"
    }
   ],
   "source": [
    "series_a.size"
   ]
  },
  {
   "cell_type": "code",
   "execution_count": 17,
   "id": "9efcbd88",
   "metadata": {},
   "outputs": [
    {
     "data": {
      "text/plain": [
       "4"
      ]
     },
     "execution_count": 17,
     "metadata": {},
     "output_type": "execute_result"
    }
   ],
   "source": [
    "product_categories.size"
   ]
  },
  {
   "cell_type": "code",
   "execution_count": 18,
   "id": "d52a8dcd",
   "metadata": {},
   "outputs": [
    {
     "data": {
      "text/plain": [
       "int"
      ]
     },
     "execution_count": 18,
     "metadata": {},
     "output_type": "execute_result"
    }
   ],
   "source": [
    "type(product_categories.size)"
   ]
  },
  {
   "cell_type": "markdown",
   "id": "83c8c8ad",
   "metadata": {},
   "source": [
    "### Note: At a certain moment in time attributes may contain no specific value"
   ]
  },
  {
   "cell_type": "markdown",
   "id": "6407def6",
   "metadata": {},
   "source": [
    "### 3. Name: x.name"
   ]
  },
  {
   "cell_type": "code",
   "execution_count": 21,
   "id": "f9dafefe",
   "metadata": {},
   "outputs": [],
   "source": [
    "product_categories.name"
   ]
  },
  {
   "cell_type": "code",
   "execution_count": 22,
   "id": "954e9db5",
   "metadata": {},
   "outputs": [
    {
     "name": "stdout",
     "output_type": "stream",
     "text": [
      "None\n"
     ]
    }
   ],
   "source": [
    "print(product_categories.name)"
   ]
  },
  {
   "cell_type": "code",
   "execution_count": 23,
   "id": "67348422",
   "metadata": {},
   "outputs": [
    {
     "data": {
      "text/plain": [
       "'Product Categories'"
      ]
     },
     "execution_count": 23,
     "metadata": {},
     "output_type": "execute_result"
    }
   ],
   "source": [
    "product_categories.name=\"Product Categories\"\n",
    "product_categories.name"
   ]
  },
  {
   "cell_type": "code",
   "execution_count": 24,
   "id": "e835d467",
   "metadata": {},
   "outputs": [
    {
     "data": {
      "text/plain": [
       "0    A\n",
       "1    B\n",
       "2    C\n",
       "3    D\n",
       "Name: Product Categories, dtype: object"
      ]
     },
     "execution_count": 24,
     "metadata": {},
     "output_type": "execute_result"
    }
   ],
   "source": [
    "product_categories"
   ]
  },
  {
   "cell_type": "markdown",
   "id": "61f304e8",
   "metadata": {},
   "source": [
    "### 4. Index: x.index"
   ]
  },
  {
   "cell_type": "code",
   "execution_count": 26,
   "id": "49fa5f3e",
   "metadata": {},
   "outputs": [
    {
     "data": {
      "text/plain": [
       "RangeIndex(start=0, stop=4, step=1)"
      ]
     },
     "execution_count": 26,
     "metadata": {},
     "output_type": "execute_result"
    }
   ],
   "source": [
    "product_categories.index"
   ]
  }
 ],
 "metadata": {
  "kernelspec": {
   "display_name": "Python 3 (ipykernel)",
   "language": "python",
   "name": "python3"
  },
  "language_info": {
   "codemirror_mode": {
    "name": "ipython",
    "version": 3
   },
   "file_extension": ".py",
   "mimetype": "text/x-python",
   "name": "python",
   "nbconvert_exporter": "python",
   "pygments_lexer": "ipython3",
   "version": "3.9.13"
  }
 },
 "nbformat": 4,
 "nbformat_minor": 5
}
